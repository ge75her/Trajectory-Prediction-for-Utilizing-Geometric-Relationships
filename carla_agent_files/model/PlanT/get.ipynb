{
 "cells": [
  {
   "cell_type": "code",
   "execution_count": null,
   "metadata": {},
   "outputs": [],
   "source": [
    "import torch\n",
    "from model import HFLM   \n",
    "checkpoint = torch.load('/home/masterthesis/plant/checkpoints/PlanT/3x/PlanT_medium/checkpoints/epoch=047.ckpt') \n",
    "state_dict=checkpoint['state_dict']\n",
    "# create new OrderedDict that does not contain `module.`\n",
    "from collections import OrderedDict\n",
    "new_state_dict = OrderedDict()\n",
    "for k, v in state_dict.items():\n",
    "    name = k[6:] # remove `model.`，\n",
    "    new_state_dict[name] = v  \n",
    "# load params\n",
    "self.model.load_state_dict(new_state_dict,strict=False) "
   ]
  }
 ],
 "metadata": {
  "kernelspec": {
   "display_name": "py3",
   "language": "python",
   "name": "python3"
  },
  "language_info": {
   "name": "python",
   "version": "3.7.16"
  },
  "orig_nbformat": 4
 },
 "nbformat": 4,
 "nbformat_minor": 2
}
